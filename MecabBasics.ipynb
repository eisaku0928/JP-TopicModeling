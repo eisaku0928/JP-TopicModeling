{
 "cells": [
  {
   "cell_type": "markdown",
   "metadata": {},
   "source": [
    "# Using Mecab"
   ]
  },
  {
   "cell_type": "markdown",
   "metadata": {},
   "source": [
    "This file shows a simple example of how to use MeCab on Japanese text."
   ]
  },
  {
   "cell_type": "code",
   "execution_count": 1,
   "metadata": {},
   "outputs": [],
   "source": [
    "import MeCab\n",
    "\n",
    "txt = \"今日はいい天気だ。\""
   ]
  },
  {
   "cell_type": "markdown",
   "metadata": {},
   "source": [
    "## Format 1: Splitting text into tokens (aka 分かち書き)"
   ]
  },
  {
   "cell_type": "code",
   "execution_count": 2,
   "metadata": {},
   "outputs": [
    {
     "name": "stdout",
     "output_type": "stream",
     "text": [
      "['今日', 'は', 'いい', '天気', 'だ', '。']\n"
     ]
    }
   ],
   "source": [
    "wakati = MeCab.Tagger(\"-Owakati -d /usr/local/lib/mecab/dic/mecab-ipadic-neologd\")\n",
    "print(wakati.parse(txt).split())"
   ]
  },
  {
   "cell_type": "markdown",
   "metadata": {},
   "source": [
    "## Format 2: Parsing Mecab format"
   ]
  },
  {
   "cell_type": "code",
   "execution_count": 3,
   "metadata": {},
   "outputs": [
    {
     "name": "stdout",
     "output_type": "stream",
     "text": [
      "今日\t名詞,副詞可能,*,*,*,*,今日,キョウ,キョー\n",
      "は\t助詞,係助詞,*,*,*,*,は,ハ,ワ\n",
      "いい\t形容詞,自立,*,*,形容詞・イイ,基本形,いい,イイ,イイ\n",
      "天気\t名詞,一般,*,*,*,*,天気,テンキ,テンキ\n",
      "だ\t助動詞,*,*,*,特殊・ダ,基本形,だ,ダ,ダ\n",
      "。\t記号,句点,*,*,*,*,。,。,。\n",
      "EOS\n",
      "\n"
     ]
    }
   ],
   "source": [
    "mecab = MeCab.Tagger()\n",
    "print(mecab.parse(txt))"
   ]
  },
  {
   "cell_type": "markdown",
   "metadata": {},
   "source": [
    "## Format 3: Parsing Chasen format"
   ]
  },
  {
   "cell_type": "code",
   "execution_count": 4,
   "metadata": {},
   "outputs": [
    {
     "name": "stdout",
     "output_type": "stream",
     "text": [
      "今日\tキョウ\t今日\t名詞-副詞可能\t\t\n",
      "は\tハ\tは\t助詞-係助詞\t\t\n",
      "いい\tイイ\tいい\t形容詞-自立\t形容詞・イイ\t基本形\n",
      "天気\tテンキ\t天気\t名詞-一般\t\t\n",
      "だ\tダ\tだ\t助動詞\t特殊・ダ\t基本形\n",
      "。\t。\t。\t記号-句点\t\t\n",
      "EOS\n",
      "\n"
     ]
    }
   ],
   "source": [
    "chasen = MeCab.Tagger(\"-Ochasen\")\n",
    "print(chasen.parse(txt))"
   ]
  },
  {
   "cell_type": "markdown",
   "metadata": {},
   "source": [
    "## Format 4: Displaying morphological data in detail (How to read and parts of speech)"
   ]
  },
  {
   "cell_type": "code",
   "execution_count": 5,
   "metadata": {},
   "outputs": [
    {
     "name": "stdout",
     "output_type": "stream",
     "text": [
      "語彙 (Term):\n",
      "品詞 (Part of Speech):BOS/EOS\n",
      "品詞細分類1 (Part of Speech Subclassification 1):*\n",
      "品詞細分類2:*\n",
      "品詞細分類3:*\n",
      "活用型 (Utilization):*\n",
      "活用系 (Conjugation):*\n",
      "レンマ (Lemma):*\n",
      "読み (How to Read):*\n",
      "発音 (Pronunciation):*\n",
      "\n",
      "語彙 (Term):今日\n",
      "品詞 (Part of Speech):名詞\n",
      "品詞細分類1 (Part of Speech Subclassification 1):副詞可能\n",
      "品詞細分類2:*\n",
      "品詞細分類3:*\n",
      "活用型 (Utilization):*\n",
      "活用系 (Conjugation):*\n",
      "レンマ (Lemma):今日\n",
      "読み (How to Read):キョウ\n",
      "発音 (Pronunciation):キョー\n",
      "\n",
      "語彙 (Term):は\n",
      "品詞 (Part of Speech):助詞\n",
      "品詞細分類1 (Part of Speech Subclassification 1):係助詞\n",
      "品詞細分類2:*\n",
      "品詞細分類3:*\n",
      "活用型 (Utilization):*\n",
      "活用系 (Conjugation):*\n",
      "レンマ (Lemma):は\n",
      "読み (How to Read):ハ\n",
      "発音 (Pronunciation):ワ\n",
      "\n",
      "語彙 (Term):いい\n",
      "品詞 (Part of Speech):形容詞\n",
      "品詞細分類1 (Part of Speech Subclassification 1):自立\n",
      "品詞細分類2:*\n",
      "品詞細分類3:*\n",
      "活用型 (Utilization):形容詞・イイ\n",
      "活用系 (Conjugation):基本形\n",
      "レンマ (Lemma):いい\n",
      "読み (How to Read):イイ\n",
      "発音 (Pronunciation):イイ\n",
      "\n",
      "語彙 (Term):天気\n",
      "品詞 (Part of Speech):名詞\n",
      "品詞細分類1 (Part of Speech Subclassification 1):一般\n",
      "品詞細分類2:*\n",
      "品詞細分類3:*\n",
      "活用型 (Utilization):*\n",
      "活用系 (Conjugation):*\n",
      "レンマ (Lemma):天気\n",
      "読み (How to Read):テンキ\n",
      "発音 (Pronunciation):テンキ\n",
      "\n",
      "語彙 (Term):だ\n",
      "品詞 (Part of Speech):助動詞\n",
      "品詞細分類1 (Part of Speech Subclassification 1):*\n",
      "品詞細分類2:*\n",
      "品詞細分類3:*\n",
      "活用型 (Utilization):特殊・ダ\n",
      "活用系 (Conjugation):基本形\n",
      "レンマ (Lemma):だ\n",
      "読み (How to Read):ダ\n",
      "発音 (Pronunciation):ダ\n",
      "\n",
      "語彙 (Term):。\n",
      "品詞 (Part of Speech):記号\n",
      "品詞細分類1 (Part of Speech Subclassification 1):句点\n",
      "品詞細分類2:*\n",
      "品詞細分類3:*\n",
      "活用型 (Utilization):*\n",
      "活用系 (Conjugation):*\n",
      "レンマ (Lemma):。\n",
      "読み (How to Read):。\n",
      "発音 (Pronunciation):。\n",
      "\n",
      "語彙 (Term):\n",
      "品詞 (Part of Speech):BOS/EOS\n",
      "品詞細分類1 (Part of Speech Subclassification 1):*\n",
      "品詞細分類2:*\n",
      "品詞細分類3:*\n",
      "活用型 (Utilization):*\n",
      "活用系 (Conjugation):*\n",
      "レンマ (Lemma):*\n",
      "読み (How to Read):*\n",
      "発音 (Pronunciation):*\n",
      "\n"
     ]
    }
   ],
   "source": [
    "chasen = MeCab.Tagger('-Ochasen -d /usr/local/lib/mecab/dic/mecab-ipadic-neologd')\n",
    "node = chasen.parseToNode(txt)\n",
    "\n",
    "while node:\n",
    "    feature = node.feature.split(',')\n",
    "    print('語彙 (Term):'+node.surface)\n",
    "    print('品詞 (Part of Speech):'+feature[0])\n",
    "    print('品詞細分類1 (Part of Speech Subclassification 1):'+feature[1])\n",
    "    print('品詞細分類2:'+feature[2])\n",
    "    print('品詞細分類3:'+feature[3])\n",
    "    print('活用型 (Utilization):'+feature[4])\n",
    "    print('活用系 (Conjugation):'+feature[5])\n",
    "    print('レンマ (Lemma):'+feature[6])\n",
    "    if len(feature) >= 8:\n",
    "        print('読み (How to Read):'+feature[7])\n",
    "        print('発音 (Pronunciation):'+feature[8])\n",
    "    print('')\n",
    "    node = node.next"
   ]
  },
  {
   "cell_type": "markdown",
   "metadata": {},
   "source": [
    "## Changing Text into Katakana カタカナ変換"
   ]
  },
  {
   "cell_type": "code",
   "execution_count": 7,
   "metadata": {},
   "outputs": [
    {
     "name": "stdout",
     "output_type": "stream",
     "text": [
      "キョウハイイテンキダ。\n",
      "\n"
     ]
    }
   ],
   "source": [
    "tagger = MeCab.Tagger('-Oyomi')\n",
    "print(tagger.parse(txt))"
   ]
  }
 ],
 "metadata": {
  "kernelspec": {
   "display_name": "Python 3",
   "language": "python",
   "name": "python3"
  },
  "language_info": {
   "codemirror_mode": {
    "name": "ipython",
    "version": 3
   },
   "file_extension": ".py",
   "mimetype": "text/x-python",
   "name": "python",
   "nbconvert_exporter": "python",
   "pygments_lexer": "ipython3",
   "version": "3.8.8"
  }
 },
 "nbformat": 4,
 "nbformat_minor": 4
}
